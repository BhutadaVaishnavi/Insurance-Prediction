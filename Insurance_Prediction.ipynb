{
 "cells": [
  {
   "cell_type": "code",
   "execution_count": 1,
   "id": "9e39cc16-d79b-42e7-9601-2d78b0f076e5",
   "metadata": {},
   "outputs": [],
   "source": [
    "import pandas as pd \n",
    "import numpy as np\n",
    "import matplotlib.pyplot as plt"
   ]
  },
  {
   "cell_type": "code",
   "execution_count": 2,
   "id": "88513888-2c54-4794-8c4a-fd4569aed3aa",
   "metadata": {},
   "outputs": [],
   "source": [
    "df=pd.read_csv('insurance.csv')"
   ]
  },
  {
   "cell_type": "code",
   "execution_count": 3,
   "id": "2de8ba3d-7403-4777-b667-68d8861fedcc",
   "metadata": {},
   "outputs": [
    {
     "data": {
      "text/html": [
       "<div>\n",
       "<style scoped>\n",
       "    .dataframe tbody tr th:only-of-type {\n",
       "        vertical-align: middle;\n",
       "    }\n",
       "\n",
       "    .dataframe tbody tr th {\n",
       "        vertical-align: top;\n",
       "    }\n",
       "\n",
       "    .dataframe thead th {\n",
       "        text-align: right;\n",
       "    }\n",
       "</style>\n",
       "<table border=\"1\" class=\"dataframe\">\n",
       "  <thead>\n",
       "    <tr style=\"text-align: right;\">\n",
       "      <th></th>\n",
       "      <th>age</th>\n",
       "      <th>sex</th>\n",
       "      <th>bmi</th>\n",
       "      <th>children</th>\n",
       "      <th>smoker</th>\n",
       "      <th>region</th>\n",
       "      <th>charges</th>\n",
       "    </tr>\n",
       "  </thead>\n",
       "  <tbody>\n",
       "    <tr>\n",
       "      <th>0</th>\n",
       "      <td>19</td>\n",
       "      <td>female</td>\n",
       "      <td>27.900</td>\n",
       "      <td>0</td>\n",
       "      <td>yes</td>\n",
       "      <td>southwest</td>\n",
       "      <td>16884.92400</td>\n",
       "    </tr>\n",
       "    <tr>\n",
       "      <th>1</th>\n",
       "      <td>18</td>\n",
       "      <td>male</td>\n",
       "      <td>33.770</td>\n",
       "      <td>1</td>\n",
       "      <td>no</td>\n",
       "      <td>southeast</td>\n",
       "      <td>1725.55230</td>\n",
       "    </tr>\n",
       "    <tr>\n",
       "      <th>2</th>\n",
       "      <td>28</td>\n",
       "      <td>male</td>\n",
       "      <td>33.000</td>\n",
       "      <td>3</td>\n",
       "      <td>no</td>\n",
       "      <td>southeast</td>\n",
       "      <td>4449.46200</td>\n",
       "    </tr>\n",
       "    <tr>\n",
       "      <th>3</th>\n",
       "      <td>33</td>\n",
       "      <td>male</td>\n",
       "      <td>22.705</td>\n",
       "      <td>0</td>\n",
       "      <td>no</td>\n",
       "      <td>northwest</td>\n",
       "      <td>21984.47061</td>\n",
       "    </tr>\n",
       "    <tr>\n",
       "      <th>4</th>\n",
       "      <td>32</td>\n",
       "      <td>male</td>\n",
       "      <td>28.880</td>\n",
       "      <td>0</td>\n",
       "      <td>no</td>\n",
       "      <td>northwest</td>\n",
       "      <td>3866.85520</td>\n",
       "    </tr>\n",
       "    <tr>\n",
       "      <th>...</th>\n",
       "      <td>...</td>\n",
       "      <td>...</td>\n",
       "      <td>...</td>\n",
       "      <td>...</td>\n",
       "      <td>...</td>\n",
       "      <td>...</td>\n",
       "      <td>...</td>\n",
       "    </tr>\n",
       "    <tr>\n",
       "      <th>1333</th>\n",
       "      <td>50</td>\n",
       "      <td>male</td>\n",
       "      <td>30.970</td>\n",
       "      <td>3</td>\n",
       "      <td>no</td>\n",
       "      <td>northwest</td>\n",
       "      <td>10600.54830</td>\n",
       "    </tr>\n",
       "    <tr>\n",
       "      <th>1334</th>\n",
       "      <td>18</td>\n",
       "      <td>female</td>\n",
       "      <td>31.920</td>\n",
       "      <td>0</td>\n",
       "      <td>no</td>\n",
       "      <td>northeast</td>\n",
       "      <td>2205.98080</td>\n",
       "    </tr>\n",
       "    <tr>\n",
       "      <th>1335</th>\n",
       "      <td>18</td>\n",
       "      <td>female</td>\n",
       "      <td>36.850</td>\n",
       "      <td>0</td>\n",
       "      <td>no</td>\n",
       "      <td>southeast</td>\n",
       "      <td>1629.83350</td>\n",
       "    </tr>\n",
       "    <tr>\n",
       "      <th>1336</th>\n",
       "      <td>21</td>\n",
       "      <td>female</td>\n",
       "      <td>25.800</td>\n",
       "      <td>0</td>\n",
       "      <td>no</td>\n",
       "      <td>southwest</td>\n",
       "      <td>2007.94500</td>\n",
       "    </tr>\n",
       "    <tr>\n",
       "      <th>1337</th>\n",
       "      <td>61</td>\n",
       "      <td>female</td>\n",
       "      <td>29.070</td>\n",
       "      <td>0</td>\n",
       "      <td>yes</td>\n",
       "      <td>northwest</td>\n",
       "      <td>29141.36030</td>\n",
       "    </tr>\n",
       "  </tbody>\n",
       "</table>\n",
       "<p>1338 rows × 7 columns</p>\n",
       "</div>"
      ],
      "text/plain": [
       "      age     sex     bmi  children smoker     region      charges\n",
       "0      19  female  27.900         0    yes  southwest  16884.92400\n",
       "1      18    male  33.770         1     no  southeast   1725.55230\n",
       "2      28    male  33.000         3     no  southeast   4449.46200\n",
       "3      33    male  22.705         0     no  northwest  21984.47061\n",
       "4      32    male  28.880         0     no  northwest   3866.85520\n",
       "...   ...     ...     ...       ...    ...        ...          ...\n",
       "1333   50    male  30.970         3     no  northwest  10600.54830\n",
       "1334   18  female  31.920         0     no  northeast   2205.98080\n",
       "1335   18  female  36.850         0     no  southeast   1629.83350\n",
       "1336   21  female  25.800         0     no  southwest   2007.94500\n",
       "1337   61  female  29.070         0    yes  northwest  29141.36030\n",
       "\n",
       "[1338 rows x 7 columns]"
      ]
     },
     "execution_count": 3,
     "metadata": {},
     "output_type": "execute_result"
    }
   ],
   "source": [
    "df"
   ]
  },
  {
   "cell_type": "code",
   "execution_count": 4,
   "id": "b10e3184-8110-4e2c-9cd3-a66df2b803c9",
   "metadata": {},
   "outputs": [
    {
     "data": {
      "text/plain": [
       "age         0\n",
       "sex         0\n",
       "bmi         0\n",
       "children    0\n",
       "smoker      0\n",
       "region      0\n",
       "charges     0\n",
       "dtype: int64"
      ]
     },
     "execution_count": 4,
     "metadata": {},
     "output_type": "execute_result"
    }
   ],
   "source": [
    "df.isnull().sum()"
   ]
  },
  {
   "cell_type": "code",
   "execution_count": 5,
   "id": "11c1e4a6-9780-4c0b-a64e-17fb08218bdf",
   "metadata": {},
   "outputs": [
    {
     "data": {
      "text/plain": [
       "9366"
      ]
     },
     "execution_count": 5,
     "metadata": {},
     "output_type": "execute_result"
    }
   ],
   "source": [
    "df.size"
   ]
  },
  {
   "cell_type": "code",
   "execution_count": 6,
   "id": "ac293ac0-45b8-49e1-a585-123c570893af",
   "metadata": {},
   "outputs": [
    {
     "data": {
      "text/plain": [
       "(1338, 7)"
      ]
     },
     "execution_count": 6,
     "metadata": {},
     "output_type": "execute_result"
    }
   ],
   "source": [
    "df.shape"
   ]
  },
  {
   "cell_type": "code",
   "execution_count": 7,
   "id": "87147acb-f15a-4ff7-bed4-83caacefddc9",
   "metadata": {},
   "outputs": [
    {
     "data": {
      "text/plain": [
       "Index(['age', 'sex', 'bmi', 'children', 'smoker', 'region', 'charges'], dtype='object')"
      ]
     },
     "execution_count": 7,
     "metadata": {},
     "output_type": "execute_result"
    }
   ],
   "source": [
    "df.columns"
   ]
  },
  {
   "cell_type": "code",
   "execution_count": 8,
   "id": "ea11894d-5eaa-4ae3-8466-f63b94d141d0",
   "metadata": {},
   "outputs": [
    {
     "name": "stdout",
     "output_type": "stream",
     "text": [
      "      age     bmi  children      charges  sex_female  sex_male  smoker_no  \\\n",
      "0      19  27.900         0  16884.92400        True     False      False   \n",
      "1      18  33.770         1   1725.55230       False      True       True   \n",
      "2      28  33.000         3   4449.46200       False      True       True   \n",
      "3      33  22.705         0  21984.47061       False      True       True   \n",
      "4      32  28.880         0   3866.85520       False      True       True   \n",
      "...   ...     ...       ...          ...         ...       ...        ...   \n",
      "1333   50  30.970         3  10600.54830       False      True       True   \n",
      "1334   18  31.920         0   2205.98080        True     False       True   \n",
      "1335   18  36.850         0   1629.83350        True     False       True   \n",
      "1336   21  25.800         0   2007.94500        True     False       True   \n",
      "1337   61  29.070         0  29141.36030        True     False      False   \n",
      "\n",
      "      smoker_yes  region_northeast  region_northwest  region_southeast  \\\n",
      "0           True             False             False             False   \n",
      "1          False             False             False              True   \n",
      "2          False             False             False              True   \n",
      "3          False             False              True             False   \n",
      "4          False             False              True             False   \n",
      "...          ...               ...               ...               ...   \n",
      "1333       False             False              True             False   \n",
      "1334       False              True             False             False   \n",
      "1335       False             False             False              True   \n",
      "1336       False             False             False             False   \n",
      "1337        True             False              True             False   \n",
      "\n",
      "      region_southwest  \n",
      "0                 True  \n",
      "1                False  \n",
      "2                False  \n",
      "3                False  \n",
      "4                False  \n",
      "...                ...  \n",
      "1333             False  \n",
      "1334             False  \n",
      "1335             False  \n",
      "1336              True  \n",
      "1337             False  \n",
      "\n",
      "[1338 rows x 12 columns]\n"
     ]
    }
   ],
   "source": [
    "# df['sex']= df['sex'].astype('category')\n",
    "# df['sex']=df['sex'].cat.codes\n",
    "# one hot encoading\n",
    "df= pd.get_dummies(df, columns = ['sex', 'smoker','region'])\n",
    "print(df)"
   ]
  },
  {
   "cell_type": "code",
   "execution_count": 9,
   "id": "4419fcaa-39f9-4057-9a9f-bc918cad2674",
   "metadata": {},
   "outputs": [],
   "source": [
    "# df['smoker']= df['smoker'].astype('category')\n",
    "# df['smoker']=df['smoker'].cat.codes"
   ]
  },
  {
   "cell_type": "code",
   "execution_count": 10,
   "id": "6d094948-6c95-45d7-b923-d8174572f8dc",
   "metadata": {},
   "outputs": [],
   "source": [
    "# df['region']= df['region'].astype('category')\n",
    "# df['region']=df['region'].cat.codes"
   ]
  },
  {
   "cell_type": "code",
   "execution_count": 11,
   "id": "d9e4c76b-a070-4181-a019-154f3366144a",
   "metadata": {},
   "outputs": [
    {
     "data": {
      "text/html": [
       "<div>\n",
       "<style scoped>\n",
       "    .dataframe tbody tr th:only-of-type {\n",
       "        vertical-align: middle;\n",
       "    }\n",
       "\n",
       "    .dataframe tbody tr th {\n",
       "        vertical-align: top;\n",
       "    }\n",
       "\n",
       "    .dataframe thead th {\n",
       "        text-align: right;\n",
       "    }\n",
       "</style>\n",
       "<table border=\"1\" class=\"dataframe\">\n",
       "  <thead>\n",
       "    <tr style=\"text-align: right;\">\n",
       "      <th></th>\n",
       "      <th>age</th>\n",
       "      <th>bmi</th>\n",
       "      <th>children</th>\n",
       "      <th>sex_female</th>\n",
       "      <th>sex_male</th>\n",
       "      <th>smoker_no</th>\n",
       "      <th>smoker_yes</th>\n",
       "      <th>region_northeast</th>\n",
       "      <th>region_northwest</th>\n",
       "      <th>region_southeast</th>\n",
       "      <th>region_southwest</th>\n",
       "    </tr>\n",
       "  </thead>\n",
       "  <tbody>\n",
       "    <tr>\n",
       "      <th>0</th>\n",
       "      <td>19</td>\n",
       "      <td>27.900</td>\n",
       "      <td>0</td>\n",
       "      <td>True</td>\n",
       "      <td>False</td>\n",
       "      <td>False</td>\n",
       "      <td>True</td>\n",
       "      <td>False</td>\n",
       "      <td>False</td>\n",
       "      <td>False</td>\n",
       "      <td>True</td>\n",
       "    </tr>\n",
       "    <tr>\n",
       "      <th>1</th>\n",
       "      <td>18</td>\n",
       "      <td>33.770</td>\n",
       "      <td>1</td>\n",
       "      <td>False</td>\n",
       "      <td>True</td>\n",
       "      <td>True</td>\n",
       "      <td>False</td>\n",
       "      <td>False</td>\n",
       "      <td>False</td>\n",
       "      <td>True</td>\n",
       "      <td>False</td>\n",
       "    </tr>\n",
       "    <tr>\n",
       "      <th>2</th>\n",
       "      <td>28</td>\n",
       "      <td>33.000</td>\n",
       "      <td>3</td>\n",
       "      <td>False</td>\n",
       "      <td>True</td>\n",
       "      <td>True</td>\n",
       "      <td>False</td>\n",
       "      <td>False</td>\n",
       "      <td>False</td>\n",
       "      <td>True</td>\n",
       "      <td>False</td>\n",
       "    </tr>\n",
       "    <tr>\n",
       "      <th>3</th>\n",
       "      <td>33</td>\n",
       "      <td>22.705</td>\n",
       "      <td>0</td>\n",
       "      <td>False</td>\n",
       "      <td>True</td>\n",
       "      <td>True</td>\n",
       "      <td>False</td>\n",
       "      <td>False</td>\n",
       "      <td>True</td>\n",
       "      <td>False</td>\n",
       "      <td>False</td>\n",
       "    </tr>\n",
       "    <tr>\n",
       "      <th>4</th>\n",
       "      <td>32</td>\n",
       "      <td>28.880</td>\n",
       "      <td>0</td>\n",
       "      <td>False</td>\n",
       "      <td>True</td>\n",
       "      <td>True</td>\n",
       "      <td>False</td>\n",
       "      <td>False</td>\n",
       "      <td>True</td>\n",
       "      <td>False</td>\n",
       "      <td>False</td>\n",
       "    </tr>\n",
       "    <tr>\n",
       "      <th>...</th>\n",
       "      <td>...</td>\n",
       "      <td>...</td>\n",
       "      <td>...</td>\n",
       "      <td>...</td>\n",
       "      <td>...</td>\n",
       "      <td>...</td>\n",
       "      <td>...</td>\n",
       "      <td>...</td>\n",
       "      <td>...</td>\n",
       "      <td>...</td>\n",
       "      <td>...</td>\n",
       "    </tr>\n",
       "    <tr>\n",
       "      <th>1333</th>\n",
       "      <td>50</td>\n",
       "      <td>30.970</td>\n",
       "      <td>3</td>\n",
       "      <td>False</td>\n",
       "      <td>True</td>\n",
       "      <td>True</td>\n",
       "      <td>False</td>\n",
       "      <td>False</td>\n",
       "      <td>True</td>\n",
       "      <td>False</td>\n",
       "      <td>False</td>\n",
       "    </tr>\n",
       "    <tr>\n",
       "      <th>1334</th>\n",
       "      <td>18</td>\n",
       "      <td>31.920</td>\n",
       "      <td>0</td>\n",
       "      <td>True</td>\n",
       "      <td>False</td>\n",
       "      <td>True</td>\n",
       "      <td>False</td>\n",
       "      <td>True</td>\n",
       "      <td>False</td>\n",
       "      <td>False</td>\n",
       "      <td>False</td>\n",
       "    </tr>\n",
       "    <tr>\n",
       "      <th>1335</th>\n",
       "      <td>18</td>\n",
       "      <td>36.850</td>\n",
       "      <td>0</td>\n",
       "      <td>True</td>\n",
       "      <td>False</td>\n",
       "      <td>True</td>\n",
       "      <td>False</td>\n",
       "      <td>False</td>\n",
       "      <td>False</td>\n",
       "      <td>True</td>\n",
       "      <td>False</td>\n",
       "    </tr>\n",
       "    <tr>\n",
       "      <th>1336</th>\n",
       "      <td>21</td>\n",
       "      <td>25.800</td>\n",
       "      <td>0</td>\n",
       "      <td>True</td>\n",
       "      <td>False</td>\n",
       "      <td>True</td>\n",
       "      <td>False</td>\n",
       "      <td>False</td>\n",
       "      <td>False</td>\n",
       "      <td>False</td>\n",
       "      <td>True</td>\n",
       "    </tr>\n",
       "    <tr>\n",
       "      <th>1337</th>\n",
       "      <td>61</td>\n",
       "      <td>29.070</td>\n",
       "      <td>0</td>\n",
       "      <td>True</td>\n",
       "      <td>False</td>\n",
       "      <td>False</td>\n",
       "      <td>True</td>\n",
       "      <td>False</td>\n",
       "      <td>True</td>\n",
       "      <td>False</td>\n",
       "      <td>False</td>\n",
       "    </tr>\n",
       "  </tbody>\n",
       "</table>\n",
       "<p>1338 rows × 11 columns</p>\n",
       "</div>"
      ],
      "text/plain": [
       "      age     bmi  children  sex_female  sex_male  smoker_no  smoker_yes  \\\n",
       "0      19  27.900         0        True     False      False        True   \n",
       "1      18  33.770         1       False      True       True       False   \n",
       "2      28  33.000         3       False      True       True       False   \n",
       "3      33  22.705         0       False      True       True       False   \n",
       "4      32  28.880         0       False      True       True       False   \n",
       "...   ...     ...       ...         ...       ...        ...         ...   \n",
       "1333   50  30.970         3       False      True       True       False   \n",
       "1334   18  31.920         0        True     False       True       False   \n",
       "1335   18  36.850         0        True     False       True       False   \n",
       "1336   21  25.800         0        True     False       True       False   \n",
       "1337   61  29.070         0        True     False      False        True   \n",
       "\n",
       "      region_northeast  region_northwest  region_southeast  region_southwest  \n",
       "0                False             False             False              True  \n",
       "1                False             False              True             False  \n",
       "2                False             False              True             False  \n",
       "3                False              True             False             False  \n",
       "4                False              True             False             False  \n",
       "...                ...               ...               ...               ...  \n",
       "1333             False              True             False             False  \n",
       "1334              True             False             False             False  \n",
       "1335             False             False              True             False  \n",
       "1336             False             False             False              True  \n",
       "1337             False              True             False             False  \n",
       "\n",
       "[1338 rows x 11 columns]"
      ]
     },
     "execution_count": 11,
     "metadata": {},
     "output_type": "execute_result"
    }
   ],
   "source": [
    "x= df.drop(columns='charges')\n",
    "x"
   ]
  },
  {
   "cell_type": "code",
   "execution_count": 12,
   "id": "d24115ac-2d45-4699-ab7c-fb8c4712beef",
   "metadata": {},
   "outputs": [
    {
     "data": {
      "text/plain": [
       "0       16884.92400\n",
       "1        1725.55230\n",
       "2        4449.46200\n",
       "3       21984.47061\n",
       "4        3866.85520\n",
       "           ...     \n",
       "1333    10600.54830\n",
       "1334     2205.98080\n",
       "1335     1629.83350\n",
       "1336     2007.94500\n",
       "1337    29141.36030\n",
       "Name: charges, Length: 1338, dtype: float64"
      ]
     },
     "execution_count": 12,
     "metadata": {},
     "output_type": "execute_result"
    }
   ],
   "source": [
    "y= df['charges']\n",
    "y"
   ]
  },
  {
   "cell_type": "code",
   "execution_count": 13,
   "id": "1e23a7c2-2d8b-4da0-a5e3-1c8efb9ed1b5",
   "metadata": {},
   "outputs": [],
   "source": [
    "from sklearn.model_selection import train_test_split\n",
    "x_train,x_test,y_train,y_test = train_test_split(x,y,test_size=0.3,random_state=0)"
   ]
  },
  {
   "cell_type": "code",
   "execution_count": 14,
   "id": "41fa8767-bb51-4e7e-a09f-c12a311d596c",
   "metadata": {},
   "outputs": [],
   "source": [
    "from sklearn.linear_model import LinearRegression\n",
    "from sklearn.metrics import r2_score\n",
    "lr=LinearRegression()"
   ]
  },
  {
   "cell_type": "code",
   "execution_count": 15,
   "id": "370a7b77-60a5-44a5-9709-36b48a49f8c3",
   "metadata": {},
   "outputs": [
    {
     "data": {
      "text/html": [
       "<style>#sk-container-id-1 {color: black;background-color: white;}#sk-container-id-1 pre{padding: 0;}#sk-container-id-1 div.sk-toggleable {background-color: white;}#sk-container-id-1 label.sk-toggleable__label {cursor: pointer;display: block;width: 100%;margin-bottom: 0;padding: 0.3em;box-sizing: border-box;text-align: center;}#sk-container-id-1 label.sk-toggleable__label-arrow:before {content: \"▸\";float: left;margin-right: 0.25em;color: #696969;}#sk-container-id-1 label.sk-toggleable__label-arrow:hover:before {color: black;}#sk-container-id-1 div.sk-estimator:hover label.sk-toggleable__label-arrow:before {color: black;}#sk-container-id-1 div.sk-toggleable__content {max-height: 0;max-width: 0;overflow: hidden;text-align: left;background-color: #f0f8ff;}#sk-container-id-1 div.sk-toggleable__content pre {margin: 0.2em;color: black;border-radius: 0.25em;background-color: #f0f8ff;}#sk-container-id-1 input.sk-toggleable__control:checked~div.sk-toggleable__content {max-height: 200px;max-width: 100%;overflow: auto;}#sk-container-id-1 input.sk-toggleable__control:checked~label.sk-toggleable__label-arrow:before {content: \"▾\";}#sk-container-id-1 div.sk-estimator input.sk-toggleable__control:checked~label.sk-toggleable__label {background-color: #d4ebff;}#sk-container-id-1 div.sk-label input.sk-toggleable__control:checked~label.sk-toggleable__label {background-color: #d4ebff;}#sk-container-id-1 input.sk-hidden--visually {border: 0;clip: rect(1px 1px 1px 1px);clip: rect(1px, 1px, 1px, 1px);height: 1px;margin: -1px;overflow: hidden;padding: 0;position: absolute;width: 1px;}#sk-container-id-1 div.sk-estimator {font-family: monospace;background-color: #f0f8ff;border: 1px dotted black;border-radius: 0.25em;box-sizing: border-box;margin-bottom: 0.5em;}#sk-container-id-1 div.sk-estimator:hover {background-color: #d4ebff;}#sk-container-id-1 div.sk-parallel-item::after {content: \"\";width: 100%;border-bottom: 1px solid gray;flex-grow: 1;}#sk-container-id-1 div.sk-label:hover label.sk-toggleable__label {background-color: #d4ebff;}#sk-container-id-1 div.sk-serial::before {content: \"\";position: absolute;border-left: 1px solid gray;box-sizing: border-box;top: 0;bottom: 0;left: 50%;z-index: 0;}#sk-container-id-1 div.sk-serial {display: flex;flex-direction: column;align-items: center;background-color: white;padding-right: 0.2em;padding-left: 0.2em;position: relative;}#sk-container-id-1 div.sk-item {position: relative;z-index: 1;}#sk-container-id-1 div.sk-parallel {display: flex;align-items: stretch;justify-content: center;background-color: white;position: relative;}#sk-container-id-1 div.sk-item::before, #sk-container-id-1 div.sk-parallel-item::before {content: \"\";position: absolute;border-left: 1px solid gray;box-sizing: border-box;top: 0;bottom: 0;left: 50%;z-index: -1;}#sk-container-id-1 div.sk-parallel-item {display: flex;flex-direction: column;z-index: 1;position: relative;background-color: white;}#sk-container-id-1 div.sk-parallel-item:first-child::after {align-self: flex-end;width: 50%;}#sk-container-id-1 div.sk-parallel-item:last-child::after {align-self: flex-start;width: 50%;}#sk-container-id-1 div.sk-parallel-item:only-child::after {width: 0;}#sk-container-id-1 div.sk-dashed-wrapped {border: 1px dashed gray;margin: 0 0.4em 0.5em 0.4em;box-sizing: border-box;padding-bottom: 0.4em;background-color: white;}#sk-container-id-1 div.sk-label label {font-family: monospace;font-weight: bold;display: inline-block;line-height: 1.2em;}#sk-container-id-1 div.sk-label-container {text-align: center;}#sk-container-id-1 div.sk-container {/* jupyter's `normalize.less` sets `[hidden] { display: none; }` but bootstrap.min.css set `[hidden] { display: none !important; }` so we also need the `!important` here to be able to override the default hidden behavior on the sphinx rendered scikit-learn.org. See: https://github.com/scikit-learn/scikit-learn/issues/21755 */display: inline-block !important;position: relative;}#sk-container-id-1 div.sk-text-repr-fallback {display: none;}</style><div id=\"sk-container-id-1\" class=\"sk-top-container\"><div class=\"sk-text-repr-fallback\"><pre>LinearRegression()</pre><b>In a Jupyter environment, please rerun this cell to show the HTML representation or trust the notebook. <br />On GitHub, the HTML representation is unable to render, please try loading this page with nbviewer.org.</b></div><div class=\"sk-container\" hidden><div class=\"sk-item\"><div class=\"sk-estimator sk-toggleable\"><input class=\"sk-toggleable__control sk-hidden--visually\" id=\"sk-estimator-id-1\" type=\"checkbox\" checked><label for=\"sk-estimator-id-1\" class=\"sk-toggleable__label sk-toggleable__label-arrow\">LinearRegression</label><div class=\"sk-toggleable__content\"><pre>LinearRegression()</pre></div></div></div></div></div>"
      ],
      "text/plain": [
       "LinearRegression()"
      ]
     },
     "execution_count": 15,
     "metadata": {},
     "output_type": "execute_result"
    }
   ],
   "source": [
    "lr.fit(x_train,y_train)"
   ]
  },
  {
   "cell_type": "code",
   "execution_count": 16,
   "id": "a2ea55e0-8ffe-47d6-942e-57b8a2e393a8",
   "metadata": {},
   "outputs": [],
   "source": [
    "c=lr.intercept_"
   ]
  },
  {
   "cell_type": "code",
   "execution_count": 17,
   "id": "90d8ccc1-a621-435c-89dd-7f92f3c39020",
   "metadata": {},
   "outputs": [
    {
     "data": {
      "text/plain": [
       "array([   256.43544682,    335.36907276,    472.70978916,     23.77337759,\n",
       "          -23.77337759, -11717.99558474,  11717.99558474,    589.02469054,\n",
       "           27.12354518,   -405.723989  ,   -210.42424672])"
      ]
     },
     "execution_count": 17,
     "metadata": {},
     "output_type": "execute_result"
    }
   ],
   "source": [
    "m=lr.coef_\n",
    "m"
   ]
  },
  {
   "cell_type": "code",
   "execution_count": 18,
   "id": "027055bd-be9c-44a4-9a72-8210d074b23c",
   "metadata": {},
   "outputs": [],
   "source": [
    "y_pred_test=lr.predict(x_test)"
   ]
  },
  {
   "cell_type": "code",
   "execution_count": 19,
   "id": "2340ac69-90e3-481b-ac9d-8dcd47e1dda5",
   "metadata": {},
   "outputs": [
    {
     "data": {
      "text/plain": [
       "array([ 1.12531936e+04,  9.54490709e+03,  3.78498010e+04,  1.60692697e+04,\n",
       "        6.73440872e+03,  4.00446268e+03,  1.60576551e+03,  1.43015300e+04,\n",
       "        8.89696521e+03,  7.34111088e+03,  4.67363726e+03,  1.01633582e+04,\n",
       "        8.89221066e+03,  3.78513354e+03,  2.74730092e+04,  1.08538364e+04,\n",
       "        1.10975451e+04,  6.15331614e+03,  8.05810804e+03,  2.69726437e+04,\n",
       "        3.33303371e+04,  1.42507758e+04,  1.18538537e+04,  3.19917201e+04,\n",
       "        4.08938830e+03,  9.31679198e+03,  1.14341410e+03,  9.91266828e+03,\n",
       "        3.75184042e+03,  1.02673370e+04,  8.90007511e+03,  3.99578709e+04,\n",
       "        1.57594956e+04,  1.39309106e+04,  2.46369056e+04,  5.22461192e+03,\n",
       "        1.26648825e+04,  3.06140223e+04,  3.32333392e+04,  3.66174044e+03,\n",
       "        4.05511934e+03,  3.92923473e+03,  3.04112144e+04,  3.92034732e+04,\n",
       "        2.75801212e+04,  4.89321443e+03,  1.07431646e+04,  7.62347812e+03,\n",
       "        3.69013781e+03,  1.03016223e+04,  5.75534832e+03,  3.26005023e+03,\n",
       "        3.29256311e+04,  3.85224428e+04,  1.60985154e+04,  7.18113917e+03,\n",
       "        5.66848906e+03,  9.23411197e+03,  9.07128678e+03,  1.15702549e+04,\n",
       "        1.81506050e+03,  3.86628808e+04,  1.50307211e+04,  1.19173076e+04,\n",
       "        1.42644074e+04,  1.41632373e+04,  2.55755740e+04,  3.18922042e+04,\n",
       "        8.41734602e+02,  1.00580196e+04,  1.24652115e+04,  1.15821370e+04,\n",
       "        2.50379704e+04,  1.56837251e+04,  1.10495116e+04,  1.27902351e+04,\n",
       "        6.59245550e+03,  9.64345096e+03,  3.01318595e+04,  3.90428552e+04,\n",
       "        1.21786741e+04,  3.71267082e+04,  3.96552317e+03,  9.45814552e+03,\n",
       "        3.47770715e+04,  2.87074484e+04,  8.72492147e+03,  4.64080428e+03,\n",
       "        1.21427453e+04,  3.02852775e+04,  1.02460382e+04,  1.14491795e+04,\n",
       "        8.43470342e+03,  8.98827762e+03,  8.46487135e+03,  7.42087496e+03,\n",
       "        3.59478843e+04,  3.31104110e+04,  7.48942896e+03,  1.51934533e+04,\n",
       "        3.94002717e+03,  8.60181033e+03,  6.36273313e+03,  3.13368193e+04,\n",
       "        3.26739502e+04,  1.72692023e+03,  9.08973615e+03,  6.44376434e+03,\n",
       "        1.46830422e+04,  3.71399182e+04,  1.00688067e+04,  1.05908983e+04,\n",
       "        1.00698592e+04,  2.68102335e+04,  3.97770153e+04,  8.59436893e+03,\n",
       "        2.97232951e+02,  9.06028430e+03,  1.53622884e+04,  9.40347912e+03,\n",
       "        3.50664652e+04,  7.08642436e+03,  1.70912622e+04,  9.78120073e+03,\n",
       "        8.34376033e+03,  2.77102990e+03,  3.28873743e+04,  3.11545232e+04,\n",
       "        3.95210386e+04,  5.30209082e+03,  9.39587293e+03,  3.53635630e+03,\n",
       "        7.67967525e+03,  8.71432596e+03,  3.15850467e+04,  2.98018584e+04,\n",
       "        2.95921688e+04,  8.83172153e+03,  3.23429657e+04,  3.10166531e+03,\n",
       "        3.43647891e+03,  1.09304700e+04,  1.32128453e+04,  1.29563790e+04,\n",
       "        5.22153387e+03,  1.56450358e+04,  1.50200213e+04,  2.22007913e+03,\n",
       "       -2.76529916e+02,  1.09758641e+04,  7.52578485e+03,  3.16112422e+04,\n",
       "        1.25004822e+04,  2.28207597e+03,  6.23341827e+03,  7.89742136e+03,\n",
       "        4.18335247e+03,  2.06073238e+03,  1.12732692e+04,  1.24474266e+04,\n",
       "        7.38703123e+03,  1.64126797e+04,  1.16548528e+04,  1.41827644e+04,\n",
       "        3.25239799e+03,  7.44089536e+03,  2.29510149e+04,  7.75939841e+03,\n",
       "        5.55574972e+03,  5.14017616e+03,  6.54358067e+03,  5.29101323e+03,\n",
       "        9.86573296e+03,  5.30318056e+03,  5.82126396e+03,  6.71264320e+03,\n",
       "        3.79359032e+03,  5.35674887e+03,  3.81050149e+04,  1.49449863e+03,\n",
       "        1.25241127e+04,  8.81600344e+03,  1.35779650e+04,  5.33467494e+03,\n",
       "        5.30034294e+03,  3.64048098e+04,  4.39998407e+03,  2.07683907e+03,\n",
       "        1.50700993e+04,  1.28583285e+04,  3.50480278e+04,  4.81692549e+03,\n",
       "        5.75568624e+03,  3.10570003e+04,  5.91365180e+03,  2.12466743e+03,\n",
       "        8.55473411e+03,  1.02157331e+04,  8.01035514e+03,  5.56732969e+03,\n",
       "        1.33173353e+04,  3.83325588e+04,  1.36438797e+04,  2.88073730e+04,\n",
       "        6.57855063e+03,  3.54156777e+04,  3.85264559e+03,  1.18931235e+04,\n",
       "        9.11693680e+03,  6.16245674e+03,  1.11692747e+04,  1.47049487e+04,\n",
       "        5.02634820e+03,  4.46458369e+03,  7.96288703e+03,  1.31978165e+03,\n",
       "        8.00636697e+03,  4.52316428e+03,  1.30510837e+04,  4.39675270e+03,\n",
       "        1.02462007e+04,  7.38951728e+03,  9.36630903e+03,  2.44501178e+03,\n",
       "        1.33392136e+04,  1.66792757e+04,  1.50554402e+04,  1.06897979e+04,\n",
       "        5.36806605e+03,  2.16568099e+03,  1.84625678e+03,  1.36078096e+04,\n",
       "        1.41046244e+04,  5.18518795e+03,  3.78006430e+03,  9.57585167e+03,\n",
       "        1.01219994e+04,  2.81258257e+04,  7.73311859e+03,  1.06662041e+04,\n",
       "        6.36597477e+03,  2.94855951e+04,  1.12667069e+04,  7.60247088e+03,\n",
       "        1.00997356e+04,  1.20691312e+04,  3.08178430e+03,  1.06992857e+04,\n",
       "        1.58012525e+03,  7.13244227e+03,  2.82894803e+04,  3.87009694e+04,\n",
       "        6.44760486e+03,  8.18263663e+03,  2.56156737e+03,  4.43116587e+02,\n",
       "        1.06319373e+04,  4.14413001e+03,  4.80964514e+03,  2.35032467e+03,\n",
       "        6.90487999e+03,  3.33519011e+04,  3.81889733e+04,  1.46742863e+04,\n",
       "        8.06796404e+03,  1.62426303e+04,  3.28132879e+04,  9.64677964e+03,\n",
       "        3.35687219e+04,  3.28499010e+03,  3.07421002e+04,  8.27403986e+03,\n",
       "        1.43749371e+04,  3.94363238e+03,  3.20677633e+04,  8.50722697e+03,\n",
       "        1.12272940e+04,  9.17836109e+03,  4.02094225e+03,  1.28491704e+04,\n",
       "        1.15880228e+04,  8.28529095e+03,  1.34436097e+04,  2.88016799e+03,\n",
       "        1.07598245e+04,  5.60040795e+03,  1.10443396e+04,  3.15748920e+04,\n",
       "        9.86714924e+03,  1.27147820e+03,  2.86568919e+02,  3.99183572e+04,\n",
       "        9.82112709e+03,  6.98485911e+03,  1.38987602e+04,  1.36056308e+04,\n",
       "        2.72298367e+04,  7.28448164e+03,  6.99440177e+03,  1.22798274e+04,\n",
       "        2.68645584e+03,  3.63656263e+03,  2.49800939e+04,  2.58300744e+04,\n",
       "        1.31031820e+04,  3.32140682e+03,  4.86248281e+03,  9.49806860e+03,\n",
       "        1.26028085e+04,  2.34806136e+04,  3.05185854e+04,  1.02915974e+04,\n",
       "        2.36864639e+04,  2.70214254e+03,  1.13613494e+04,  7.31417605e+03,\n",
       "        8.37333217e+03, -1.20090918e+01,  7.87352474e+03,  3.53845654e+04,\n",
       "        6.34875226e+03,  6.42543828e+03,  2.58973345e+01,  1.06566943e+04,\n",
       "        6.52223275e+03,  9.67955134e+03,  3.90212856e+04,  2.73398516e+04,\n",
       "        1.16690107e+04,  3.52946768e+04,  1.52284127e+04,  6.70599088e+03,\n",
       "        1.07444457e+04,  7.07603187e+03,  3.64305215e+04,  5.77215659e+03,\n",
       "        1.11987869e+04,  9.12757093e+02,  2.39243545e+04,  1.72536528e+03,\n",
       "        3.44370930e+04,  1.11893513e+04,  1.64284856e+03,  3.23084344e+04,\n",
       "        6.83933850e+03,  5.38358717e+03,  3.77008671e+04,  2.38518793e+03,\n",
       "        9.73769497e+03,  2.51677325e+03,  1.29924006e+04,  1.14558043e+03,\n",
       "        1.09157187e+04,  6.82118928e+03,  3.65819756e+04,  7.32055769e+03,\n",
       "        3.03617950e+04,  2.92892602e+04,  6.82053534e+03,  1.09348851e+04,\n",
       "        1.76251405e+03,  2.37139310e+03,  3.67942218e+03,  1.26348376e+04,\n",
       "        3.68242957e+04,  9.88276212e+03,  5.21130967e+02,  1.15304510e+04,\n",
       "        4.96731683e+03,  1.00055528e+04,  5.74380019e+03,  7.07572800e+03,\n",
       "        4.03843476e+03,  2.82570712e+04,  4.44634108e+03, -1.24189730e+03,\n",
       "        3.29513389e+04,  1.26555619e+04,  3.59905000e+04,  1.00050499e+04,\n",
       "        7.57606854e+03, -2.70310110e+02,  2.44881699e+03,  1.17300960e+04,\n",
       "        5.85414692e+03,  3.48550916e+03,  1.22947034e+04,  7.91825176e+03,\n",
       "        7.10941145e+03,  5.62219064e+03,  2.93138277e+03,  3.20691197e+04,\n",
       "        3.42234717e+03,  8.77246198e+03,  4.58681719e+03,  1.32668158e+04,\n",
       "        1.49586949e+04,  7.41278952e+03,  2.66486545e+04,  1.40642726e+04,\n",
       "        1.71400262e+04,  1.16484659e+04])"
      ]
     },
     "execution_count": 19,
     "metadata": {},
     "output_type": "execute_result"
    }
   ],
   "source": [
    "y_pred_test"
   ]
  },
  {
   "cell_type": "code",
   "execution_count": 20,
   "id": "110df9a5-bab0-4635-9798-d5e355a1c808",
   "metadata": {},
   "outputs": [
    {
     "data": {
      "text/plain": [
       "0.7909160991789905"
      ]
     },
     "execution_count": 20,
     "metadata": {},
     "output_type": "execute_result"
    }
   ],
   "source": [
    "r2_score(y_test,y_pred_test)"
   ]
  },
  {
   "cell_type": "code",
   "execution_count": 22,
   "id": "e9f94f45-25b9-4d4f-9359-fb94e73c69eb",
   "metadata": {},
   "outputs": [
    {
     "data": {
      "image/png": "[encoded data removed]",
      "text/plain": [
       "<Figure size 640x480 with 1 Axes>"
      ]
     },
     "metadata": {},
     "output_type": "display_data"
    }
   ],
   "source": [
    "plt.scatter(y_test,y_pred_test)\n",
    "plt.xlabel('Actual Charges')\n",
    "plt.ylabel('Predicted Charges')\n",
    "plt.show()"
   ]
  },
  {
   "cell_type": "code",
   "execution_count": null,
   "id": "f5986f53-a411-44b9-a062-82f871d69007",
   "metadata": {},
   "outputs": [],
   "source": []
  },
  {
   "cell_type": "code",
   "execution_count": null,
   "id": "ef237544-a0b6-4d5f-92c8-a92359e990f6",
   "metadata": {},
   "outputs": [],
   "source": [
    "\n"
   ]
  },
  {
   "cell_type": "code",
   "execution_count": null,
   "id": "87863223-cea8-441d-b532-d05ccae26989",
   "metadata": {},
   "outputs": [],
   "source": []
  },
  {
   "cell_type": "code",
   "execution_count": null,
   "id": "42918a50-9fa0-4316-8df4-0e10f0bba0c0",
   "metadata": {},
   "outputs": [],
   "source": []
  },
  {
   "cell_type": "code",
   "execution_count": null,
   "id": "3fe93366-0510-44c9-b639-e9a19c00d492",
   "metadata": {},
   "outputs": [],
   "source": []
  },
  {
   "cell_type": "code",
   "execution_count": null,
   "id": "42aa5bc3-c254-4923-aebb-44d609786b5c",
   "metadata": {},
   "outputs": [],
   "source": []
  },
  {
   "cell_type": "code",
   "execution_count": null,
   "id": "ff4f3c5f-cfc7-4b51-8f06-317936c897a3",
   "metadata": {},
   "outputs": [],
   "source": []
  }
 ],
 "metadata": {
  "kernelspec": {
   "display_name": "Python 3 (ipykernel)",
   "language": "python",
   "name": "python3"
  },
  "language_info": {
   "codemirror_mode": {
    "name": "ipython",
    "version": 3
   },
   "file_extension": ".py",
   "mimetype": "text/x-python",
   "name": "python",
   "nbconvert_exporter": "python",
   "pygments_lexer": "ipython3",
   "version": "3.11.7"
  }
 },
 "nbformat": 4,
 "nbformat_minor": 5
}
